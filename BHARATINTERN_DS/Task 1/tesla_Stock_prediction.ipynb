{
 "cells": [
  {
   "cell_type": "code",
   "execution_count": 1,
   "metadata": {
    "id": "rAwKpTN6Q7gF"
   },
   "outputs": [],
   "source": [
    "import pandas as pd\n",
    "import numpy as np\n",
    "import matplotlib.pyplot as plt"
   ]
  },
  {
   "cell_type": "code",
   "execution_count": 2,
   "metadata": {
    "id": "KQSN0NFHQ7gI"
   },
   "outputs": [],
   "source": [
    "df = pd.read_csv(r\"C:\\Users\\USER\\Desktop\\BHARATINTERN_DS\\Task 1\\tesla_stock_price.csv\")"
   ]
  },
  {
   "cell_type": "code",
   "execution_count": 3,
   "metadata": {
    "id": "At3ugcilQ7gI"
   },
   "outputs": [],
   "source": [
    "df_Train = df[0:1600]\n",
    "df_test = df[1600:]"
   ]
  },
  {
   "cell_type": "code",
   "execution_count": 4,
   "metadata": {
    "colab": {
     "base_uri": "https://localhost:8080/",
     "height": 423
    },
    "id": "zIgVU3OmQ7gJ",
    "outputId": "65331315-ee3e-4f58-8bd7-e2bfede9c6db"
   },
   "outputs": [
    {
     "data": {
      "text/html": [
       "<div>\n",
       "<style scoped>\n",
       "    .dataframe tbody tr th:only-of-type {\n",
       "        vertical-align: middle;\n",
       "    }\n",
       "\n",
       "    .dataframe tbody tr th {\n",
       "        vertical-align: top;\n",
       "    }\n",
       "\n",
       "    .dataframe thead th {\n",
       "        text-align: right;\n",
       "    }\n",
       "</style>\n",
       "<table border=\"1\" class=\"dataframe\">\n",
       "  <thead>\n",
       "    <tr style=\"text-align: right;\">\n",
       "      <th></th>\n",
       "      <th>Date</th>\n",
       "      <th>Open</th>\n",
       "      <th>High</th>\n",
       "      <th>Low</th>\n",
       "      <th>Close</th>\n",
       "      <th>Adj Close</th>\n",
       "      <th>Volume</th>\n",
       "    </tr>\n",
       "  </thead>\n",
       "  <tbody>\n",
       "    <tr>\n",
       "      <th>0</th>\n",
       "      <td>2010-06-29</td>\n",
       "      <td>1.266667</td>\n",
       "      <td>1.666667</td>\n",
       "      <td>1.169333</td>\n",
       "      <td>1.592667</td>\n",
       "      <td>1.592667</td>\n",
       "      <td>281494500</td>\n",
       "    </tr>\n",
       "    <tr>\n",
       "      <th>1</th>\n",
       "      <td>2010-06-30</td>\n",
       "      <td>1.719333</td>\n",
       "      <td>2.028000</td>\n",
       "      <td>1.553333</td>\n",
       "      <td>1.588667</td>\n",
       "      <td>1.588667</td>\n",
       "      <td>257806500</td>\n",
       "    </tr>\n",
       "    <tr>\n",
       "      <th>2</th>\n",
       "      <td>2010-07-01</td>\n",
       "      <td>1.666667</td>\n",
       "      <td>1.728000</td>\n",
       "      <td>1.351333</td>\n",
       "      <td>1.464000</td>\n",
       "      <td>1.464000</td>\n",
       "      <td>123282000</td>\n",
       "    </tr>\n",
       "    <tr>\n",
       "      <th>3</th>\n",
       "      <td>2010-07-02</td>\n",
       "      <td>1.533333</td>\n",
       "      <td>1.540000</td>\n",
       "      <td>1.247333</td>\n",
       "      <td>1.280000</td>\n",
       "      <td>1.280000</td>\n",
       "      <td>77097000</td>\n",
       "    </tr>\n",
       "    <tr>\n",
       "      <th>4</th>\n",
       "      <td>2010-07-06</td>\n",
       "      <td>1.333333</td>\n",
       "      <td>1.333333</td>\n",
       "      <td>1.055333</td>\n",
       "      <td>1.074000</td>\n",
       "      <td>1.074000</td>\n",
       "      <td>103003500</td>\n",
       "    </tr>\n",
       "    <tr>\n",
       "      <th>...</th>\n",
       "      <td>...</td>\n",
       "      <td>...</td>\n",
       "      <td>...</td>\n",
       "      <td>...</td>\n",
       "      <td>...</td>\n",
       "      <td>...</td>\n",
       "      <td>...</td>\n",
       "    </tr>\n",
       "    <tr>\n",
       "      <th>1595</th>\n",
       "      <td>2016-10-27</td>\n",
       "      <td>14.089333</td>\n",
       "      <td>14.246667</td>\n",
       "      <td>13.443333</td>\n",
       "      <td>13.600667</td>\n",
       "      <td>13.600667</td>\n",
       "      <td>196405500</td>\n",
       "    </tr>\n",
       "    <tr>\n",
       "      <th>1596</th>\n",
       "      <td>2016-10-28</td>\n",
       "      <td>13.600000</td>\n",
       "      <td>13.688000</td>\n",
       "      <td>13.322000</td>\n",
       "      <td>13.331333</td>\n",
       "      <td>13.331333</td>\n",
       "      <td>64201500</td>\n",
       "    </tr>\n",
       "    <tr>\n",
       "      <th>1597</th>\n",
       "      <td>2016-10-31</td>\n",
       "      <td>13.499333</td>\n",
       "      <td>13.499333</td>\n",
       "      <td>13.054000</td>\n",
       "      <td>13.182000</td>\n",
       "      <td>13.182000</td>\n",
       "      <td>70384500</td>\n",
       "    </tr>\n",
       "    <tr>\n",
       "      <th>1598</th>\n",
       "      <td>2016-11-01</td>\n",
       "      <td>13.202667</td>\n",
       "      <td>13.233333</td>\n",
       "      <td>12.540667</td>\n",
       "      <td>12.719333</td>\n",
       "      <td>12.719333</td>\n",
       "      <td>105900000</td>\n",
       "    </tr>\n",
       "    <tr>\n",
       "      <th>1599</th>\n",
       "      <td>2016-11-02</td>\n",
       "      <td>12.670000</td>\n",
       "      <td>12.846667</td>\n",
       "      <td>12.500667</td>\n",
       "      <td>12.534667</td>\n",
       "      <td>12.534667</td>\n",
       "      <td>63801000</td>\n",
       "    </tr>\n",
       "  </tbody>\n",
       "</table>\n",
       "<p>1600 rows × 7 columns</p>\n",
       "</div>"
      ],
      "text/plain": [
       "            Date       Open       High        Low      Close  Adj Close  \\\n",
       "0     2010-06-29   1.266667   1.666667   1.169333   1.592667   1.592667   \n",
       "1     2010-06-30   1.719333   2.028000   1.553333   1.588667   1.588667   \n",
       "2     2010-07-01   1.666667   1.728000   1.351333   1.464000   1.464000   \n",
       "3     2010-07-02   1.533333   1.540000   1.247333   1.280000   1.280000   \n",
       "4     2010-07-06   1.333333   1.333333   1.055333   1.074000   1.074000   \n",
       "...          ...        ...        ...        ...        ...        ...   \n",
       "1595  2016-10-27  14.089333  14.246667  13.443333  13.600667  13.600667   \n",
       "1596  2016-10-28  13.600000  13.688000  13.322000  13.331333  13.331333   \n",
       "1597  2016-10-31  13.499333  13.499333  13.054000  13.182000  13.182000   \n",
       "1598  2016-11-01  13.202667  13.233333  12.540667  12.719333  12.719333   \n",
       "1599  2016-11-02  12.670000  12.846667  12.500667  12.534667  12.534667   \n",
       "\n",
       "         Volume  \n",
       "0     281494500  \n",
       "1     257806500  \n",
       "2     123282000  \n",
       "3      77097000  \n",
       "4     103003500  \n",
       "...         ...  \n",
       "1595  196405500  \n",
       "1596   64201500  \n",
       "1597   70384500  \n",
       "1598  105900000  \n",
       "1599   63801000  \n",
       "\n",
       "[1600 rows x 7 columns]"
      ]
     },
     "execution_count": 4,
     "metadata": {},
     "output_type": "execute_result"
    }
   ],
   "source": [
    "df_Train"
   ]
  },
  {
   "cell_type": "code",
   "execution_count": 5,
   "metadata": {
    "colab": {
     "base_uri": "https://localhost:8080/",
     "height": 423
    },
    "id": "g1PEzJcEQ7gJ",
    "outputId": "80ddd452-7a77-4f24-a40a-1b2672ef3405"
   },
   "outputs": [
    {
     "data": {
      "text/html": [
       "<div>\n",
       "<style scoped>\n",
       "    .dataframe tbody tr th:only-of-type {\n",
       "        vertical-align: middle;\n",
       "    }\n",
       "\n",
       "    .dataframe tbody tr th {\n",
       "        vertical-align: top;\n",
       "    }\n",
       "\n",
       "    .dataframe thead th {\n",
       "        text-align: right;\n",
       "    }\n",
       "</style>\n",
       "<table border=\"1\" class=\"dataframe\">\n",
       "  <thead>\n",
       "    <tr style=\"text-align: right;\">\n",
       "      <th></th>\n",
       "      <th>Date</th>\n",
       "      <th>Open</th>\n",
       "      <th>High</th>\n",
       "      <th>Low</th>\n",
       "      <th>Close</th>\n",
       "      <th>Adj Close</th>\n",
       "      <th>Volume</th>\n",
       "    </tr>\n",
       "  </thead>\n",
       "  <tbody>\n",
       "    <tr>\n",
       "      <th>1600</th>\n",
       "      <td>2016-11-03</td>\n",
       "      <td>12.600000</td>\n",
       "      <td>12.764667</td>\n",
       "      <td>12.469333</td>\n",
       "      <td>12.494667</td>\n",
       "      <td>12.494667</td>\n",
       "      <td>39795000</td>\n",
       "    </tr>\n",
       "    <tr>\n",
       "      <th>1601</th>\n",
       "      <td>2016-11-04</td>\n",
       "      <td>12.600000</td>\n",
       "      <td>12.897333</td>\n",
       "      <td>12.397333</td>\n",
       "      <td>12.704000</td>\n",
       "      <td>12.704000</td>\n",
       "      <td>77190000</td>\n",
       "    </tr>\n",
       "    <tr>\n",
       "      <th>1602</th>\n",
       "      <td>2016-11-07</td>\n",
       "      <td>12.906000</td>\n",
       "      <td>12.952667</td>\n",
       "      <td>12.670000</td>\n",
       "      <td>12.880667</td>\n",
       "      <td>12.880667</td>\n",
       "      <td>58051500</td>\n",
       "    </tr>\n",
       "    <tr>\n",
       "      <th>1603</th>\n",
       "      <td>2016-11-08</td>\n",
       "      <td>12.919333</td>\n",
       "      <td>13.166000</td>\n",
       "      <td>12.750667</td>\n",
       "      <td>12.996000</td>\n",
       "      <td>12.996000</td>\n",
       "      <td>49014000</td>\n",
       "    </tr>\n",
       "    <tr>\n",
       "      <th>1604</th>\n",
       "      <td>2016-11-09</td>\n",
       "      <td>12.458667</td>\n",
       "      <td>12.800000</td>\n",
       "      <td>12.263333</td>\n",
       "      <td>12.670667</td>\n",
       "      <td>12.670667</td>\n",
       "      <td>122596500</td>\n",
       "    </tr>\n",
       "    <tr>\n",
       "      <th>...</th>\n",
       "      <td>...</td>\n",
       "      <td>...</td>\n",
       "      <td>...</td>\n",
       "      <td>...</td>\n",
       "      <td>...</td>\n",
       "      <td>...</td>\n",
       "      <td>...</td>\n",
       "    </tr>\n",
       "    <tr>\n",
       "      <th>3157</th>\n",
       "      <td>2023-01-12</td>\n",
       "      <td>122.559998</td>\n",
       "      <td>124.129997</td>\n",
       "      <td>117.000000</td>\n",
       "      <td>123.559998</td>\n",
       "      <td>123.559998</td>\n",
       "      <td>169400900</td>\n",
       "    </tr>\n",
       "    <tr>\n",
       "      <th>3158</th>\n",
       "      <td>2023-01-13</td>\n",
       "      <td>116.550003</td>\n",
       "      <td>122.629997</td>\n",
       "      <td>115.599998</td>\n",
       "      <td>122.400002</td>\n",
       "      <td>122.400002</td>\n",
       "      <td>180439300</td>\n",
       "    </tr>\n",
       "    <tr>\n",
       "      <th>3159</th>\n",
       "      <td>2023-01-17</td>\n",
       "      <td>125.699997</td>\n",
       "      <td>131.699997</td>\n",
       "      <td>125.019997</td>\n",
       "      <td>131.490005</td>\n",
       "      <td>131.490005</td>\n",
       "      <td>186477000</td>\n",
       "    </tr>\n",
       "    <tr>\n",
       "      <th>3160</th>\n",
       "      <td>2023-01-18</td>\n",
       "      <td>136.559998</td>\n",
       "      <td>136.679993</td>\n",
       "      <td>127.010002</td>\n",
       "      <td>128.779999</td>\n",
       "      <td>128.779999</td>\n",
       "      <td>195680300</td>\n",
       "    </tr>\n",
       "    <tr>\n",
       "      <th>3161</th>\n",
       "      <td>2023-01-19</td>\n",
       "      <td>127.260002</td>\n",
       "      <td>129.990005</td>\n",
       "      <td>124.309998</td>\n",
       "      <td>127.169998</td>\n",
       "      <td>127.169998</td>\n",
       "      <td>169883300</td>\n",
       "    </tr>\n",
       "  </tbody>\n",
       "</table>\n",
       "<p>1562 rows × 7 columns</p>\n",
       "</div>"
      ],
      "text/plain": [
       "            Date        Open        High         Low       Close   Adj Close  \\\n",
       "1600  2016-11-03   12.600000   12.764667   12.469333   12.494667   12.494667   \n",
       "1601  2016-11-04   12.600000   12.897333   12.397333   12.704000   12.704000   \n",
       "1602  2016-11-07   12.906000   12.952667   12.670000   12.880667   12.880667   \n",
       "1603  2016-11-08   12.919333   13.166000   12.750667   12.996000   12.996000   \n",
       "1604  2016-11-09   12.458667   12.800000   12.263333   12.670667   12.670667   \n",
       "...          ...         ...         ...         ...         ...         ...   \n",
       "3157  2023-01-12  122.559998  124.129997  117.000000  123.559998  123.559998   \n",
       "3158  2023-01-13  116.550003  122.629997  115.599998  122.400002  122.400002   \n",
       "3159  2023-01-17  125.699997  131.699997  125.019997  131.490005  131.490005   \n",
       "3160  2023-01-18  136.559998  136.679993  127.010002  128.779999  128.779999   \n",
       "3161  2023-01-19  127.260002  129.990005  124.309998  127.169998  127.169998   \n",
       "\n",
       "         Volume  \n",
       "1600   39795000  \n",
       "1601   77190000  \n",
       "1602   58051500  \n",
       "1603   49014000  \n",
       "1604  122596500  \n",
       "...         ...  \n",
       "3157  169400900  \n",
       "3158  180439300  \n",
       "3159  186477000  \n",
       "3160  195680300  \n",
       "3161  169883300  \n",
       "\n",
       "[1562 rows x 7 columns]"
      ]
     },
     "execution_count": 5,
     "metadata": {},
     "output_type": "execute_result"
    }
   ],
   "source": [
    "df_test"
   ]
  },
  {
   "cell_type": "code",
   "execution_count": 6,
   "metadata": {
    "id": "ek9FuuCmQ7gJ"
   },
   "outputs": [],
   "source": [
    "train = df_Train.iloc[:, 4:5].values\n",
    "test_actual = df_test.iloc[:, 4:5].values"
   ]
  },
  {
   "cell_type": "code",
   "execution_count": 7,
   "metadata": {
    "colab": {
     "base_uri": "https://localhost:8080/"
    },
    "id": "SI8VYEOlQ7gK",
    "outputId": "c02e21d6-ed33-4a7a-ed23-f7fb5b708dd2"
   },
   "outputs": [
    {
     "data": {
      "text/plain": [
       "array([[ 1.592667],\n",
       "       [ 1.588667],\n",
       "       [ 1.464   ],\n",
       "       ...,\n",
       "       [13.182   ],\n",
       "       [12.719333],\n",
       "       [12.534667]])"
      ]
     },
     "execution_count": 7,
     "metadata": {},
     "output_type": "execute_result"
    }
   ],
   "source": [
    "##Considering closing value of stocks so extracting the close column\n",
    "train"
   ]
  },
  {
   "cell_type": "code",
   "execution_count": 8,
   "metadata": {
    "colab": {
     "base_uri": "https://localhost:8080/"
    },
    "id": "WXB85gisQ7gK",
    "outputId": "27aa2b35-0787-4bd1-e0c5-0461cdec7f01"
   },
   "outputs": [
    {
     "data": {
      "text/plain": [
       "array([[ 12.494667],\n",
       "       [ 12.704   ],\n",
       "       [ 12.880667],\n",
       "       ...,\n",
       "       [131.490005],\n",
       "       [128.779999],\n",
       "       [127.169998]])"
      ]
     },
     "execution_count": 8,
     "metadata": {},
     "output_type": "execute_result"
    }
   ],
   "source": [
    "test_actual"
   ]
  },
  {
   "cell_type": "code",
   "execution_count": 9,
   "metadata": {
    "id": "CaV-i0P5Q7gL"
   },
   "outputs": [],
   "source": [
    "######NORmalizing the train values\n",
    "\n",
    "from sklearn.preprocessing import MinMaxScaler\n",
    "mm_sc = MinMaxScaler(feature_range = (0, 1))\n",
    "training = mm_sc.fit_transform(train)"
   ]
  },
  {
   "cell_type": "code",
   "execution_count": 10,
   "metadata": {
    "colab": {
     "base_uri": "https://localhost:8080/"
    },
    "id": "KUSNYx1IQ7gL",
    "outputId": "b081976b-6910-480f-bf15-c4efe20dcac3"
   },
   "outputs": [
    {
     "data": {
      "text/plain": [
       "array([[0.02993639],\n",
       "       [0.02971437],\n",
       "       [0.02279457],\n",
       "       ...,\n",
       "       [0.67321646],\n",
       "       [0.64753556],\n",
       "       [0.63728545]])"
      ]
     },
     "execution_count": 10,
     "metadata": {},
     "output_type": "execute_result"
    }
   ],
   "source": [
    "training"
   ]
  },
  {
   "cell_type": "code",
   "execution_count": 11,
   "metadata": {
    "id": "F96H1-cjQ7gM"
   },
   "outputs": [],
   "source": [
    "X_train = []\n",
    "y_train = []\n",
    "for i in range(60, 1600):\n",
    "    X_train.append(training[i-60:i, 0])\n",
    "    y_train.append(training[i, 0])\n",
    "X_train, y_train = np.array(X_train), np.array(y_train)\n"
   ]
  },
  {
   "cell_type": "code",
   "execution_count": 12,
   "metadata": {
    "colab": {
     "base_uri": "https://localhost:8080/"
    },
    "id": "vPc-3sXXQ7gM",
    "outputId": "614b8e60-01e5-45c3-fe72-b22934f48c0b"
   },
   "outputs": [
    {
     "data": {
      "text/plain": [
       "(1540, 60)"
      ]
     },
     "execution_count": 12,
     "metadata": {},
     "output_type": "execute_result"
    }
   ],
   "source": [
    "X_train.shape"
   ]
  },
  {
   "cell_type": "code",
   "execution_count": 13,
   "metadata": {
    "id": "mVdTTvxYQ7gM"
   },
   "outputs": [],
   "source": [
    "X_train = np.reshape(X_train, (X_train.shape[0], X_train.shape[1], 1))"
   ]
  },
  {
   "cell_type": "code",
   "execution_count": 14,
   "metadata": {
    "colab": {
     "base_uri": "https://localhost:8080/"
    },
    "id": "TimqDYn_Q7gM",
    "outputId": "1bbfec60-405d-48f7-85cb-16436c68132b"
   },
   "outputs": [
    {
     "data": {
      "text/plain": [
       "array([[[0.02993639],\n",
       "        [0.02971437],\n",
       "        [0.02279457],\n",
       "        ...,\n",
       "        [0.0194642 ],\n",
       "        [0.0183911 ],\n",
       "        [0.01506072]],\n",
       "\n",
       "       [[0.02971437],\n",
       "        [0.02279457],\n",
       "        [0.01258143],\n",
       "        ...,\n",
       "        [0.0183911 ],\n",
       "        [0.01506072],\n",
       "        [0.01391358]],\n",
       "\n",
       "       [[0.02279457],\n",
       "        [0.01258143],\n",
       "        [0.00114715],\n",
       "        ...,\n",
       "        [0.01506072],\n",
       "        [0.01391358],\n",
       "        [0.0159118 ]],\n",
       "\n",
       "       ...,\n",
       "\n",
       "       [[0.79273983],\n",
       "        [0.77841923],\n",
       "        [0.78922446],\n",
       "        ...,\n",
       "        [0.68990534],\n",
       "        [0.69645508],\n",
       "        [0.68150537]],\n",
       "\n",
       "       [[0.77841923],\n",
       "        [0.78922446],\n",
       "        [0.77653201],\n",
       "        ...,\n",
       "        [0.69645508],\n",
       "        [0.68150537],\n",
       "        [0.67321646]],\n",
       "\n",
       "       [[0.78922446],\n",
       "        [0.77653201],\n",
       "        [0.77379373],\n",
       "        ...,\n",
       "        [0.68150537],\n",
       "        [0.67321646],\n",
       "        [0.64753556]]])"
      ]
     },
     "execution_count": 14,
     "metadata": {},
     "output_type": "execute_result"
    }
   ],
   "source": [
    "X_train"
   ]
  },
  {
   "cell_type": "code",
   "execution_count": 15,
   "metadata": {
    "id": "-q4KqPsyQ7gN"
   },
   "outputs": [],
   "source": [
    "import tensorflow as tf\n",
    "from tensorflow.keras.models import Sequential\n",
    "from tensorflow.keras.layers import Dense\n",
    "from tensorflow.keras.layers import LSTM\n",
    "from tensorflow.keras.layers import Dropout"
   ]
  },
  {
   "cell_type": "code",
   "execution_count": 16,
   "metadata": {
    "colab": {
     "base_uri": "https://localhost:8080/"
    },
    "id": "L-miDDBJQ7gN",
    "outputId": "0ba4fe3d-84ea-467b-cb30-49a65c428fb2"
   },
   "outputs": [
    {
     "name": "stdout",
     "output_type": "stream",
     "text": [
      "Epoch 1/25\n",
      "97/97 [==============================] - 14s 61ms/step - loss: 0.0209\n",
      "Epoch 2/25\n",
      "97/97 [==============================] - 6s 62ms/step - loss: 0.0042\n",
      "Epoch 3/25\n",
      "97/97 [==============================] - 6s 64ms/step - loss: 0.0039\n",
      "Epoch 4/25\n",
      "97/97 [==============================] - 6s 64ms/step - loss: 0.0038\n",
      "Epoch 5/25\n",
      "97/97 [==============================] - 6s 63ms/step - loss: 0.0036\n",
      "Epoch 6/25\n",
      "97/97 [==============================] - 6s 62ms/step - loss: 0.0028\n",
      "Epoch 7/25\n",
      "97/97 [==============================] - 6s 61ms/step - loss: 0.0030\n",
      "Epoch 8/25\n",
      "97/97 [==============================] - 6s 61ms/step - loss: 0.0028\n",
      "Epoch 9/25\n",
      "97/97 [==============================] - 6s 61ms/step - loss: 0.0027\n",
      "Epoch 10/25\n",
      "97/97 [==============================] - 6s 61ms/step - loss: 0.0026\n",
      "Epoch 11/25\n",
      "97/97 [==============================] - 6s 62ms/step - loss: 0.0025\n",
      "Epoch 12/25\n",
      "97/97 [==============================] - 6s 62ms/step - loss: 0.0025\n",
      "Epoch 13/25\n",
      "97/97 [==============================] - 6s 62ms/step - loss: 0.0024\n",
      "Epoch 14/25\n",
      "97/97 [==============================] - 6s 62ms/step - loss: 0.0024\n",
      "Epoch 15/25\n",
      "97/97 [==============================] - 6s 61ms/step - loss: 0.0022\n",
      "Epoch 16/25\n",
      "97/97 [==============================] - 6s 61ms/step - loss: 0.0022\n",
      "Epoch 17/25\n",
      "97/97 [==============================] - 6s 62ms/step - loss: 0.0023\n",
      "Epoch 18/25\n",
      "97/97 [==============================] - 6s 63ms/step - loss: 0.0019\n",
      "Epoch 19/25\n",
      "97/97 [==============================] - 6s 62ms/step - loss: 0.0020\n",
      "Epoch 20/25\n",
      "97/97 [==============================] - 6s 61ms/step - loss: 0.0019\n",
      "Epoch 21/25\n",
      "97/97 [==============================] - 6s 61ms/step - loss: 0.0018\n",
      "Epoch 22/25\n",
      "97/97 [==============================] - 6s 62ms/step - loss: 0.0019\n",
      "Epoch 23/25\n",
      "97/97 [==============================] - 6s 62ms/step - loss: 0.0016\n",
      "Epoch 24/25\n",
      "97/97 [==============================] - 6s 62ms/step - loss: 0.0016\n",
      "Epoch 25/25\n",
      "97/97 [==============================] - 6s 61ms/step - loss: 0.0016\n"
     ]
    },
    {
     "data": {
      "text/plain": [
       "<keras.src.callbacks.History at 0x28803cb38e0>"
      ]
     },
     "execution_count": 16,
     "metadata": {},
     "output_type": "execute_result"
    }
   ],
   "source": [
    "\n",
    "Stock_pred = Sequential()\n",
    "\n",
    "Stock_pred.add(LSTM(units = 60, return_sequences = True, input_shape = (X_train.shape[1], 1)))\n",
    "Stock_pred.add(Dropout(0.1))\n",
    "\n",
    "Stock_pred.add(LSTM(units = 60, return_sequences = True))\n",
    "Stock_pred.add(Dropout(0.1))\n",
    "\n",
    "Stock_pred.add(LSTM(units = 60, return_sequences = True))\n",
    "Stock_pred.add(Dropout(0.1))\n",
    "\n",
    "Stock_pred.add(LSTM(units = 60))\n",
    "Stock_pred.add(Dropout(0.1))\n",
    "\n",
    "Stock_pred.add(Dense(units = 1))\n",
    "\n",
    "Stock_pred.compile(optimizer = 'adam', loss = 'mean_squared_error')\n",
    "##Training the model\n",
    "Stock_pred.fit(X_train, y_train, epochs = 25, batch_size = 16)"
   ]
  },
  {
   "cell_type": "code",
   "execution_count": 17,
   "metadata": {
    "id": "IOs119fNQ7gO"
   },
   "outputs": [],
   "source": [
    "test_head = train[-60:]\n"
   ]
  },
  {
   "cell_type": "code",
   "execution_count": 18,
   "metadata": {
    "colab": {
     "base_uri": "https://localhost:8080/"
    },
    "id": "FDaScdX2Q7gO",
    "outputId": "5bc00d03-ce3c-47bc-b061-98428b9dc9e4"
   },
   "outputs": [
    {
     "data": {
      "text/plain": [
       "array([[15.043333],\n",
       "       [14.994   ],\n",
       "       [15.040667],\n",
       "       [15.039333],\n",
       "       [14.907333],\n",
       "       [14.882667],\n",
       "       [14.900667],\n",
       "       [15.      ],\n",
       "       [14.862   ],\n",
       "       [14.989333],\n",
       "       [14.841333],\n",
       "       [14.730667],\n",
       "       [14.666   ],\n",
       "       [14.346667],\n",
       "       [14.089333],\n",
       "       [14.134   ],\n",
       "       [13.384667],\n",
       "       [13.185333],\n",
       "       [13.522   ],\n",
       "       [13.447333],\n",
       "       [13.157333],\n",
       "       [12.964667],\n",
       "       [13.22    ],\n",
       "       [13.07    ],\n",
       "       [13.094   ],\n",
       "       [13.361333],\n",
       "       [13.693333],\n",
       "       [13.756   ],\n",
       "       [13.642667],\n",
       "       [13.681333],\n",
       "       [13.762   ],\n",
       "       [13.83    ],\n",
       "       [13.932667],\n",
       "       [13.720667],\n",
       "       [13.751333],\n",
       "       [13.38    ],\n",
       "       [13.602   ],\n",
       "       [14.246667],\n",
       "       [14.094   ],\n",
       "       [13.897333],\n",
       "       [13.4     ],\n",
       "       [13.107333],\n",
       "       [13.396667],\n",
       "       [13.34    ],\n",
       "       [13.434   ],\n",
       "       [13.349333],\n",
       "       [13.100667],\n",
       "       [12.930667],\n",
       "       [13.273333],\n",
       "       [13.570667],\n",
       "       [13.273333],\n",
       "       [13.339333],\n",
       "       [13.517333],\n",
       "       [13.489333],\n",
       "       [13.482667],\n",
       "       [13.600667],\n",
       "       [13.331333],\n",
       "       [13.182   ],\n",
       "       [12.719333],\n",
       "       [12.534667]])"
      ]
     },
     "execution_count": 18,
     "metadata": {},
     "output_type": "execute_result"
    }
   ],
   "source": [
    "test_head"
   ]
  },
  {
   "cell_type": "code",
   "execution_count": 19,
   "metadata": {
    "colab": {
     "base_uri": "https://localhost:8080/"
    },
    "id": "mu8WVTI_Q7gO",
    "outputId": "8c1b3f24-54f3-4c28-ac55-fe9daddf29db"
   },
   "outputs": [
    {
     "data": {
      "text/plain": [
       "(1562, 1)"
      ]
     },
     "execution_count": 19,
     "metadata": {},
     "output_type": "execute_result"
    }
   ],
   "source": [
    "test_actual.shape"
   ]
  },
  {
   "cell_type": "code",
   "execution_count": 20,
   "metadata": {
    "colab": {
     "base_uri": "https://localhost:8080/"
    },
    "id": "6odsftz2Q7gO",
    "outputId": "f4580e15-9bbc-441b-b496-a593c71c2413"
   },
   "outputs": [
    {
     "data": {
      "text/plain": [
       "(60, 1)"
      ]
     },
     "execution_count": 20,
     "metadata": {},
     "output_type": "execute_result"
    }
   ],
   "source": [
    "##For getting the 1st predicted value, we have o concatenate the last 60 time steps from the training dataset\n",
    "test_head.shape"
   ]
  },
  {
   "cell_type": "code",
   "execution_count": 21,
   "metadata": {
    "id": "plbQ7K1oQ7gP"
   },
   "outputs": [],
   "source": [
    "Test = np.concatenate((test_head,test_actual), axis=0)\n"
   ]
  },
  {
   "cell_type": "code",
   "execution_count": 22,
   "metadata": {
    "colab": {
     "base_uri": "https://localhost:8080/"
    },
    "id": "0a7mUALFQ7gP",
    "outputId": "5c98f911-cfb5-48c8-a113-c458f8de4f49"
   },
   "outputs": [
    {
     "data": {
      "text/plain": [
       "(1622, 1)"
      ]
     },
     "execution_count": 22,
     "metadata": {},
     "output_type": "execute_result"
    }
   ],
   "source": [
    "Test.shape"
   ]
  },
  {
   "cell_type": "code",
   "execution_count": 23,
   "metadata": {
    "colab": {
     "base_uri": "https://localhost:8080/"
    },
    "id": "IW_C3WdJQ7gP",
    "outputId": "135203c3-348b-4c9e-9f3c-439423383f3d"
   },
   "outputs": [
    {
     "data": {
      "text/plain": [
       "array([[ 15.043333],\n",
       "       [ 14.994   ],\n",
       "       [ 15.040667],\n",
       "       ...,\n",
       "       [131.490005],\n",
       "       [128.779999],\n",
       "       [127.169998]])"
      ]
     },
     "execution_count": 23,
     "metadata": {},
     "output_type": "execute_result"
    }
   ],
   "source": [
    "Test"
   ]
  },
  {
   "cell_type": "code",
   "execution_count": 24,
   "metadata": {
    "id": "AcMg0L2RQ7gP"
   },
   "outputs": [],
   "source": [
    "Test = mm_sc.transform(Test)\n",
    "X_test = []\n",
    "for i in range(60, 152):\n",
    "    X_test.append(Test[i-60:i, 0])\n",
    "X_test = np.array(X_test)"
   ]
  },
  {
   "cell_type": "code",
   "execution_count": 25,
   "metadata": {
    "colab": {
     "base_uri": "https://localhost:8080/"
    },
    "id": "9IgljOhWQ7gP",
    "outputId": "21581447-fc4f-49b0-b3ca-346284340f7a"
   },
   "outputs": [
    {
     "data": {
      "text/plain": [
       "array([[0.77653201, 0.77379373, 0.77638404, ..., 0.67321646, 0.64753556,\n",
       "        0.63728545],\n",
       "       [0.77379373, 0.77638404, 0.77630999, ..., 0.64753556, 0.63728545,\n",
       "        0.6350652 ],\n",
       "       [0.77638404, 0.77630999, 0.76898317, ..., 0.63728545, 0.6350652 ,\n",
       "        0.64668448],\n",
       "       ...,\n",
       "       [0.67266139, 0.69083041, 0.69171851, ..., 0.84328751, 0.85246452,\n",
       "        0.8962405 ],\n",
       "       [0.69083041, 0.69171851, 0.71414302, ..., 0.85246452, 0.8962405 ,\n",
       "        0.88784058],\n",
       "       [0.69171851, 0.71414302, 0.71010961, ..., 0.8962405 , 0.88784058,\n",
       "        0.91122707]])"
      ]
     },
     "execution_count": 25,
     "metadata": {},
     "output_type": "execute_result"
    }
   ],
   "source": [
    "X_test"
   ]
  },
  {
   "cell_type": "code",
   "execution_count": 26,
   "metadata": {
    "id": "dwWDOOB-Q7gQ"
   },
   "outputs": [],
   "source": [
    "X_test = np.reshape(X_test, (X_test.shape[0], X_test.shape[1], 1))"
   ]
  },
  {
   "cell_type": "code",
   "execution_count": 27,
   "metadata": {
    "colab": {
     "base_uri": "https://localhost:8080/"
    },
    "id": "WXxi8vgxQ7gQ",
    "outputId": "499a15ae-edef-4047-bb5e-6792493c0943"
   },
   "outputs": [
    {
     "data": {
      "text/plain": [
       "array([[[0.77653201],\n",
       "        [0.77379373],\n",
       "        [0.77638404],\n",
       "        ...,\n",
       "        [0.67321646],\n",
       "        [0.64753556],\n",
       "        [0.63728545]],\n",
       "\n",
       "       [[0.77379373],\n",
       "        [0.77638404],\n",
       "        [0.77630999],\n",
       "        ...,\n",
       "        [0.64753556],\n",
       "        [0.63728545],\n",
       "        [0.6350652 ]],\n",
       "\n",
       "       [[0.77638404],\n",
       "        [0.77630999],\n",
       "        [0.76898317],\n",
       "        ...,\n",
       "        [0.63728545],\n",
       "        [0.6350652 ],\n",
       "        [0.64668448]],\n",
       "\n",
       "       ...,\n",
       "\n",
       "       [[0.67266139],\n",
       "        [0.69083041],\n",
       "        [0.69171851],\n",
       "        ...,\n",
       "        [0.84328751],\n",
       "        [0.85246452],\n",
       "        [0.8962405 ]],\n",
       "\n",
       "       [[0.69083041],\n",
       "        [0.69171851],\n",
       "        [0.71414302],\n",
       "        ...,\n",
       "        [0.85246452],\n",
       "        [0.8962405 ],\n",
       "        [0.88784058]],\n",
       "\n",
       "       [[0.69171851],\n",
       "        [0.71414302],\n",
       "        [0.71010961],\n",
       "        ...,\n",
       "        [0.8962405 ],\n",
       "        [0.88784058],\n",
       "        [0.91122707]]])"
      ]
     },
     "execution_count": 27,
     "metadata": {},
     "output_type": "execute_result"
    }
   ],
   "source": [
    "X_test"
   ]
  },
  {
   "cell_type": "code",
   "execution_count": 28,
   "metadata": {
    "colab": {
     "base_uri": "https://localhost:8080/"
    },
    "id": "a_3O4InqQ7gQ",
    "outputId": "42d6c438-5fcb-43d5-b189-a3066077fb58"
   },
   "outputs": [
    {
     "name": "stdout",
     "output_type": "stream",
     "text": [
      "3/3 [==============================] - 2s 29ms/step\n"
     ]
    }
   ],
   "source": [
    "y_pred = Stock_pred.predict(X_test)\n",
    "y_pred = mm_sc.inverse_transform(y_pred)"
   ]
  },
  {
   "cell_type": "code",
   "execution_count": 29,
   "metadata": {
    "colab": {
     "base_uri": "https://localhost:8080/",
     "height": 472
    },
    "id": "TbcrFLpkQ7gQ",
    "outputId": "c1aa2c9f-2ade-435b-add9-bde57f07e387"
   },
   "outputs": [
    {
     "data": {
      "image/png": "[encoded data removed]",
      "text/plain": [
       "<Figure size 640x480 with 1 Axes>"
      ]
     },
     "metadata": {},
     "output_type": "display_data"
    }
   ],
   "source": [
    "plt.plot(test_actual, color = 'Green', label = 'tesla Actual stock closing price')\n",
    "plt.plot(y_pred, color = 'blue', label = 'Predicted Google Stock Price')\n",
    "plt.title('Tesla Stock price Prediction')\n",
    "plt.xlabel('Date')\n",
    "plt.ylabel('Tesla Closing stock')\n",
    "plt.legend()\n",
    "plt.show()"
   ]
  },
  {
   "cell_type": "code",
   "execution_count": null,
   "metadata": {
    "id": "5Yeo2CfjQ7gQ"
   },
   "outputs": [],
   "source": []
  },
  {
   "cell_type": "code",
   "execution_count": null,
   "metadata": {
    "id": "dVuMgt5bQ7gQ"
   },
   "outputs": [],
   "source": []
  },
  {
   "cell_type": "code",
   "execution_count": null,
   "metadata": {
    "id": "dbZune14Q7gR"
   },
   "outputs": [],
   "source": []
  }
 ],
 "metadata": {
  "colab": {
   "provenance": []
  },
  "kernelspec": {
   "display_name": "Python 3 (ipykernel)",
   "language": "python",
   "name": "python3"
  },
  "language_info": {
   "codemirror_mode": {
    "name": "ipython",
    "version": 3
   },
   "file_extension": ".py",
   "mimetype": "text/x-python",
   "name": "python",
   "nbconvert_exporter": "python",
   "pygments_lexer": "ipython3",
   "version": "3.9.18"
  }
 },
 "nbformat": 4,
 "nbformat_minor": 4
}
